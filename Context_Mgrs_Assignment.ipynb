{
 "cells": [
  {
   "cell_type": "markdown",
   "metadata": {},
   "source": [
    "For this assignment, you have 4 files containing information about persons.\n",
    "\n",
    "The files are:\n",
    "* `personal_info.csv` -   personal information such as name, gender, etc. (one row per person)\n",
    "* `vehicles.csv` -   what vehicle people own (one row per person)\n",
    "* `employment.csv` -   where a person is employed (one row per person)\n",
    "* `update_status.csv` -   when the person's data was created and last updated\n",
    "\n",
    "Each file contains a key, `SSN`, which **uniquely** identifies a person.\n",
    "\n",
    "This key is present in **all** four files.\n",
    "\n",
    "You are guaranteed that the same SSN value is present in **every** file, and that it only appears **once per file**.\n",
    "\n",
    "In addition, the files are all sorted by SSN, i.e. the SSN values appear in the same order in each file.\n",
    "\n",
    "##### Goal 1\n",
    "\n",
    "Your first task is to create iterators for each of the four files that contained cleaned up data, of the correct type (e.g. string, int, date, etc), and represented by a named tuple.\n",
    "\n",
    "For now these four iterators are just separate, independent iterators.\n",
    "\n",
    "##### Goal 2\n",
    "\n",
    "Create a single iterable that combines all the columns from all the iterators.\n",
    "\n",
    "The iterable should yield named tuples containing all the columns.\n",
    "Make sure that the SSN's across the files match!\n",
    "\n",
    "All the files are guaranteed to be in SSN sort order, and every SSN is unique, and every SSN appears in every file.\n",
    "\n",
    "Make sure the SSN is not repeated 4 times - one time per row is enough!\n",
    "\n",
    "##### Goal 3\n",
    "\n",
    "Next, you want to identify any stale records, where stale simply means the record has not been updated since 3/1/2017 (e.g. last update date < 3/1/2017). Create an iterator that only contains current records (i.e. not stale) based on the `last_updated` field from the `status_update` file.\n",
    "\n",
    "##### Goal 4\n",
    "\n",
    "Find the largest group of car makes for each gender.\n",
    "\n",
    "Possibly more than one such group per gender exists (equal sizes)."
   ]
  },
  {
   "cell_type": "code",
   "execution_count": 239,
   "metadata": {},
   "outputs": [],
   "source": [
    "import csv"
   ]
  },
  {
   "cell_type": "code",
   "execution_count": 240,
   "metadata": {},
   "outputs": [],
   "source": [
    "personal_info = r'C:\\Users\\anila\\Desktop\\AI\\EPAI-Phase1\\S16_Context_Managers\\personal_info.csv'\n",
    "employment = r'C:\\Users\\anila\\Desktop\\AI\\EPAI-Phase1\\S16_Context_Managers\\employment.csv'\n",
    "update_status = r'C:\\Users\\anila\\Desktop\\AI\\EPAI-Phase1\\S16_Context_Managers\\update_status.csv'\n",
    "vehicles = r'C:\\Users\\anila\\Desktop\\AI\\EPAI-Phase1\\S16_Context_Managers\\vehicles.csv'"
   ]
  },
  {
   "cell_type": "markdown",
   "metadata": {},
   "source": [
    "# Goal1"
   ]
  },
  {
   "cell_type": "markdown",
   "metadata": {},
   "source": [
    "**Personal_Info check**"
   ]
  },
  {
   "cell_type": "code",
   "execution_count": 420,
   "metadata": {},
   "outputs": [
    {
     "name": "stdout",
     "output_type": "stream",
     "text": [
      "ssn,first_name,last_name,gender,language\n",
      "\n",
      "100-53-9824,Sebastiano,Tester,Male,Icelandic\n",
      "\n",
      "101-71-4702,Cayla,MacDonagh,Female,Lao\n",
      "\n",
      "1001\n"
     ]
    }
   ],
   "source": [
    "with open(personal_info) as file:\n",
    "    file_vals=iter(file)\n",
    "    for i,vals in enumerate(file_vals):\n",
    "        if i <= 2:\n",
    "            print(vals)\n",
    "    print(i)"
   ]
  },
  {
   "cell_type": "code",
   "execution_count": 421,
   "metadata": {},
   "outputs": [],
   "source": [
    "personal_info_type = ['INT', 'STRING', 'STRING', 'STRING','STRING']"
   ]
  },
  {
   "cell_type": "markdown",
   "metadata": {},
   "source": [
    "**Vehicles check**"
   ]
  },
  {
   "cell_type": "code",
   "execution_count": 422,
   "metadata": {},
   "outputs": [
    {
     "name": "stdout",
     "output_type": "stream",
     "text": [
      "ssn,vehicle_make,vehicle_model,model_year\n",
      "\n",
      "100-53-9824,Oldsmobile,Bravada,1993\n",
      "\n",
      "101-71-4702,Ford,Mustang,1997\n",
      "\n",
      "1001\n"
     ]
    }
   ],
   "source": [
    "with open(vehicles) as file:\n",
    "    file_vals=iter(file)\n",
    "    for i,vals in enumerate(file_vals):\n",
    "        if i <= 2:\n",
    "            print(vals)\n",
    "    print(i)\n",
    "    "
   ]
  },
  {
   "cell_type": "code",
   "execution_count": 423,
   "metadata": {},
   "outputs": [],
   "source": [
    "vehicles_type= ['INT','STRING','STRING','INT']"
   ]
  },
  {
   "cell_type": "markdown",
   "metadata": {},
   "source": [
    "**Employment Check**"
   ]
  },
  {
   "cell_type": "code",
   "execution_count": 424,
   "metadata": {},
   "outputs": [
    {
     "name": "stdout",
     "output_type": "stream",
     "text": [
      "employer,department,employee_id,ssn\n",
      "\n",
      "Abbott, Bahringer and Goyette,Marketing,41-5601892,283-04-6835\n",
      "\n",
      "Abshire Inc,Research and Development,55-8987515,868-32-1805\n",
      "\n",
      "1001\n"
     ]
    }
   ],
   "source": [
    "with open(employment) as file:\n",
    "    file_vals=iter(file)\n",
    "    for i,vals in enumerate(file_vals):\n",
    "        if i <= 2:\n",
    "            print(vals)\n",
    "    print(i)"
   ]
  },
  {
   "cell_type": "code",
   "execution_count": 425,
   "metadata": {},
   "outputs": [],
   "source": [
    "employment_type = ['STRING','STRING','INT','INT']  # But we need to combine items like these -> Abbott, Bahringer and Goyette"
   ]
  },
  {
   "cell_type": "markdown",
   "metadata": {},
   "source": [
    "**Update_Status Check**"
   ]
  },
  {
   "cell_type": "code",
   "execution_count": 426,
   "metadata": {},
   "outputs": [
    {
     "name": "stdout",
     "output_type": "stream",
     "text": [
      "ssn,last_updated,created\n",
      "\n",
      "100-53-9824,2017-10-07T00:14:42Z,2016-01-24T21:19:30Z\n",
      "\n",
      "101-71-4702,2017-01-23T11:23:17Z,2016-01-27T04:32:57Z\n",
      "\n",
      "1001\n"
     ]
    }
   ],
   "source": [
    "with open(update_status) as file:\n",
    "    file_vals=iter(file)\n",
    "    for i,vals in enumerate(file_vals):\n",
    "        if i <= 2:\n",
    "            print(vals)\n",
    "    print(i)"
   ]
  },
  {
   "cell_type": "code",
   "execution_count": 427,
   "metadata": {},
   "outputs": [],
   "source": [
    "status_type = ['INT','DATE','DATE']"
   ]
  },
  {
   "cell_type": "markdown",
   "metadata": {},
   "source": [
    "**Casting Function**"
   ]
  },
  {
   "cell_type": "code",
   "execution_count": 428,
   "metadata": {},
   "outputs": [],
   "source": [
    "from datetime import datetime\n",
    "def type_casting(col_data,input_val):\n",
    "    if col_data == 'DATE':\n",
    "        return datetime.strptime(input_val, '%Y-%m-%dT%H:%M:%SZ').date()\n",
    "    elif col_data == 'INT':\n",
    "        return int(input_val.replace('-','_'))\n",
    "    else:\n",
    "        return input_val"
   ]
  },
  {
   "cell_type": "code",
   "execution_count": 429,
   "metadata": {},
   "outputs": [],
   "source": [
    "def cast_each_row(col_data_type,row_val):\n",
    "    return [type_casting(col_data, value) for col_data, value in zip(col_data_type, row_val)]"
   ]
  },
  {
   "cell_type": "code",
   "execution_count": 430,
   "metadata": {},
   "outputs": [],
   "source": [
    "from collections import namedtuple\n",
    "import csv\n",
    "from itertools import islice\n",
    "\n",
    "def gen_fun(input_file,col_data_type, nt_name):\n",
    "    with open(input_file) as f:\n",
    "        rows = csv.reader(f, delimiter=',', quotechar='\"')\n",
    "        headers = next(iter(rows))\n",
    "        named_tuple = namedtuple(nt_name, headers)\n",
    "        for row in rows:\n",
    "            if len(row) > 4 and nt_name == 'employment':\n",
    "                row_new = []\n",
    "                row_new.append(str(row[0] + row[1]))\n",
    "                row_new.extend(row[2:])\n",
    "                row = row_new\n",
    "            yield named_tuple(*cast_each_row(col_data_type, row))"
   ]
  },
  {
   "cell_type": "code",
   "execution_count": 431,
   "metadata": {},
   "outputs": [
    {
     "name": "stdout",
     "output_type": "stream",
     "text": [
      "personal_info(ssn=100539824, first_name='Sebastiano', last_name='Tester', gender='Male', language='Icelandic')\n",
      "personal_info(ssn=101714702, first_name='Cayla', last_name='MacDonagh', gender='Female', language='Lao')\n",
      "personal_info(ssn=101840356, first_name='Nomi', last_name='Lipprose', gender='Female', language='Yiddish')\n"
     ]
    }
   ],
   "source": [
    "personal_data = gen_fun(personal_info, personal_info_type, 'personal_info')\n",
    "for data in islice(personal_data, 3):\n",
    "    print(data)\n",
    "    personal_fields = data._fields"
   ]
  },
  {
   "cell_type": "code",
   "execution_count": 432,
   "metadata": {},
   "outputs": [
    {
     "name": "stdout",
     "output_type": "stream",
     "text": [
      "vehicles(ssn=100539824, vehicle_make='Oldsmobile', vehicle_model='Bravada', model_year=1993)\n",
      "vehicles(ssn=101714702, vehicle_make='Ford', vehicle_model='Mustang', model_year=1997)\n",
      "vehicles(ssn=101840356, vehicle_make='GMC', vehicle_model='Yukon', model_year=2005)\n"
     ]
    }
   ],
   "source": [
    "vehicles_data = gen_fun(vehicles,vehicles_type, 'vehicles')\n",
    "for data in islice(vehicles_data, 3):\n",
    "    print(data)\n",
    "    vehicles_fields = data._fields"
   ]
  },
  {
   "cell_type": "code",
   "execution_count": 433,
   "metadata": {},
   "outputs": [
    {
     "name": "stdout",
     "output_type": "stream",
     "text": [
      "update_status(ssn=100539824, last_updated=datetime.date(2017, 10, 7), created=datetime.date(2016, 1, 24))\n",
      "update_status(ssn=101714702, last_updated=datetime.date(2017, 1, 23), created=datetime.date(2016, 1, 27))\n",
      "update_status(ssn=101840356, last_updated=datetime.date(2017, 10, 4), created=datetime.date(2016, 9, 21))\n"
     ]
    }
   ],
   "source": [
    "status_data = gen_fun(update_status,status_type, 'update_status')\n",
    "for data in islice(status_data, 3):\n",
    "    print(data)\n",
    "    status_fields = data._fields"
   ]
  },
  {
   "cell_type": "code",
   "execution_count": 434,
   "metadata": {},
   "outputs": [
    {
     "name": "stdout",
     "output_type": "stream",
     "text": [
      "employment(employer='Abbott Bahringer and Goyette', department='Marketing', employee_id=415601892, ssn=283046835)\n",
      "employment(employer='Abshire Inc', department='Research and Development', employee_id=558987515, ssn=868321805)\n",
      "employment(employer='Abshire-Hahn', department='Marketing', employee_id=940531814, ssn=667877090)\n"
     ]
    }
   ],
   "source": [
    "employment_data = gen_fun(employment, employment_type, 'employment')\n",
    "for data in islice(employment_data, 3):\n",
    "    print(data)\n",
    "    employment_fields = data._fields"
   ]
  },
  {
   "cell_type": "markdown",
   "metadata": {},
   "source": [
    "# Goal 2"
   ]
  },
  {
   "cell_type": "code",
   "execution_count": 435,
   "metadata": {},
   "outputs": [
    {
     "name": "stdout",
     "output_type": "stream",
     "text": [
      "('ssn', 'first_name', 'last_name', 'gender', 'language')\n",
      "('ssn', 'vehicle_make', 'vehicle_model', 'model_year')\n",
      "('employer', 'department', 'employee_id', 'ssn')\n",
      "('ssn', 'last_updated', 'created')\n"
     ]
    }
   ],
   "source": [
    "print(personal_fields)\n",
    "print(vehicles_fields)\n",
    "print(employment_fields)\n",
    "print(status_fields)"
   ]
  },
  {
   "cell_type": "code",
   "execution_count": 436,
   "metadata": {},
   "outputs": [
    {
     "data": {
      "text/plain": [
       "('ssn',\n",
       " 'first_name',\n",
       " 'last_name',\n",
       " 'gender',\n",
       " 'language',\n",
       " 'vehicle_make',\n",
       " 'vehicle_model',\n",
       " 'model_year',\n",
       " 'employer',\n",
       " 'department',\n",
       " 'employee_id',\n",
       " 'last_updated',\n",
       " 'created')"
      ]
     },
     "execution_count": 436,
     "metadata": {},
     "output_type": "execute_result"
    }
   ],
   "source": [
    "combined_header = personal_fields + vehicles_fields[1:] + employment_fields[:-1] + status_fields[1:]\n",
    "combined_header"
   ]
  },
  {
   "cell_type": "code",
   "execution_count": 437,
   "metadata": {},
   "outputs": [],
   "source": [
    "def ssn_match():\n",
    "    for pers, vehi, emp, status in zip(personal_data, vehicles_data, employment_data, status_data):\n",
    "        ssn_match_info = namedtuple(\"ssn_match_info\", combined_header)\n",
    "        combined_data  = [*pers] + [*vehi][1:] + [*emp][:-1] + [*status][1:]\n",
    "        yield ssn_match_info(*combined_data)"
   ]
  },
  {
   "cell_type": "code",
   "execution_count": 358,
   "metadata": {},
   "outputs": [
    {
     "name": "stdout",
     "output_type": "stream",
     "text": [
      "ssn_match_info(ssn=104220928, first_name='Justinian', last_name='Kunzelmann', gender='Male', language='Dhivehi', vehicle_make='Oldsmobile', vehicle_model='Intrigue', model_year=2000, employer='Adams Deckow and Sauer', department='Services', employee_id=996082191, last_updated=datetime.date(2017, 3, 28), created=datetime.date(2016, 4, 15))\n",
      "ssn_match_info(ssn=104847144, first_name='Claudianus', last_name='Brixey', gender='Male', language='Afrikaans', vehicle_make='Ford', vehicle_model='Crown Victoria', model_year=2008, employer='Adams-Ledner', department='Services', employee_id=405208891, last_updated=datetime.date(2018, 2, 19), created=datetime.date(2016, 3, 15))\n",
      "ssn_match_info(ssn=105275541, first_name='Federico', last_name='Aggett', gender='Male', language='Chinese', vehicle_make='Ford', vehicle_model='Mustang', model_year=2001, employer='Altenwerth Feest and Hammes', department='Legal', employee_id=185795578, last_updated=datetime.date(2017, 7, 24), created=datetime.date(2016, 7, 23))\n"
     ]
    }
   ],
   "source": [
    "ssn_matched=ssn_match()\n",
    "for data in islice(ssn_matched, 3):\n",
    "    print(data)"
   ]
  },
  {
   "cell_type": "markdown",
   "metadata": {},
   "source": [
    "# Goal 3"
   ]
  },
  {
   "cell_type": "code",
   "execution_count": 359,
   "metadata": {},
   "outputs": [],
   "source": [
    "def stale_records(input_date):\n",
    "    date = datetime.strptime(input_date, '%d-%m-%Y').date()\n",
    "    for ssn_matched_data in ssn_match():\n",
    "        if ssn_matched_data.last_updated < date:\n",
    "            yield ssn_matched_data"
   ]
  },
  {
   "cell_type": "code",
   "execution_count": 360,
   "metadata": {},
   "outputs": [],
   "source": [
    "input_date = '03-01-2017'\n",
    "stale_record=stale_records(input_date)"
   ]
  },
  {
   "cell_type": "code",
   "execution_count": 361,
   "metadata": {},
   "outputs": [
    {
     "name": "stdout",
     "output_type": "stream",
     "text": [
      "0 ssn_match_info(ssn=390743062, first_name='Cara', last_name='Ingree', gender='Female', language='Indonesian', vehicle_make='Audi', vehicle_model='TT', model_year=2002, employer='Howe-Robel', department='Services', employee_id=456137557, last_updated=datetime.date(2017, 1, 1), created=datetime.date(2016, 11, 14))\n",
      "1 ssn_match_info(ssn=644708292, first_name='Glyn', last_name='Mc Giffin', gender='Female', language='Zulu', vehicle_make='Chevrolet', vehicle_model='Classic', model_year=2004, employer='Quitzon Rempel and Hane', department='Business Development', employee_id=34767523, last_updated=datetime.date(2017, 1, 2), created=datetime.date(2016, 3, 24))\n",
      "2 ssn_match_info(ssn=669129323, first_name='Peter', last_name='Ketteman', gender='Male', language='Hiri Motu', vehicle_make='Hyundai', vehicle_model='Sonata', model_year=2004, employer='Rempel-Weissnat', department='Business Development', employee_id=20335898, last_updated=datetime.date(2017, 1, 2), created=datetime.date(2016, 11, 19))\n"
     ]
    }
   ],
   "source": [
    "from itertools import islice\n",
    "ssn_matched=ssn_match()\n",
    "for idx, data in enumerate(islice(stale_record, 3)):\n",
    "    print(idx, data)"
   ]
  },
  {
   "cell_type": "markdown",
   "metadata": {},
   "source": [
    "# Goal 4"
   ]
  },
  {
   "cell_type": "code",
   "execution_count": 451,
   "metadata": {},
   "outputs": [],
   "source": [
    "personal_data = gen_fun(personal_info, personal_info_type, 'personal_info')\n",
    "vehicles_data = gen_fun(vehicles,vehicles_type, 'vehicles')\n",
    "status_data = gen_fun(update_status,status_type, 'update_status')\n",
    "employment_data = gen_fun(employment, employment_type, 'employment')\n",
    "all_record = ssn_match()\n",
    "\n",
    "make_count_male = dict()\n",
    "make_count_female = dict()\n",
    "for _ in islice(all_record,1000):\n",
    "    if _.gender == 'Male':\n",
    "        make_count_male[_.vehicle_make] = make_count_male[_.vehicle_make] + 1 if _.vehicle_make in make_count_male else 1\n",
    "    else:\n",
    "        make_count_female[_.vehicle_make] = make_count_female[_.vehicle_make] + 1 if _.vehicle_make in make_count_female else 1\n",
    "        "
   ]
  },
  {
   "cell_type": "code",
   "execution_count": 452,
   "metadata": {},
   "outputs": [
    {
     "name": "stdout",
     "output_type": "stream",
     "text": [
      "[('Ford', 44)]\n"
     ]
    }
   ],
   "source": [
    "max_value = max(list(make_count_male.values()))\n",
    "print([(k, v) for k, v in make_count_male.items() if v == max_value])"
   ]
  },
  {
   "cell_type": "code",
   "execution_count": 453,
   "metadata": {},
   "outputs": [
    {
     "name": "stdout",
     "output_type": "stream",
     "text": [
      "[('Ford', 48), ('Chevrolet', 48)]\n"
     ]
    }
   ],
   "source": [
    "max_value = max(list(make_count_female.values()))\n",
    "print([(k, v) for k, v in make_count_female.items() if v == max_value])"
   ]
  },
  {
   "cell_type": "code",
   "execution_count": null,
   "metadata": {},
   "outputs": [],
   "source": []
  }
 ],
 "metadata": {
  "kernelspec": {
   "display_name": "Python 3",
   "language": "python",
   "name": "python3"
  },
  "language_info": {
   "codemirror_mode": {
    "name": "ipython",
    "version": 3
   },
   "file_extension": ".py",
   "mimetype": "text/x-python",
   "name": "python",
   "nbconvert_exporter": "python",
   "pygments_lexer": "ipython3",
   "version": "3.8.3"
  }
 },
 "nbformat": 4,
 "nbformat_minor": 4
}
